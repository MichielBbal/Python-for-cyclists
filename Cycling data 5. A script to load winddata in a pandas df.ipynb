{
 "cells": [
  {
   "cell_type": "markdown",
   "metadata": {},
   "source": [
    "# Cycling data 5. A script to load winddata in a pandas df"
   ]
  },
  {
   "cell_type": "markdown",
   "metadata": {},
   "source": [
    "## 1. Get the current weather data and wind data\n",
    "\n",
    "Source and more information: https://openweathermap.org/current#geo\n",
    "\n",
    "You will need an API-key for this website."
   ]
  },
  {
   "cell_type": "code",
   "execution_count": 14,
   "metadata": {
    "scrolled": true
   },
   "outputs": [
    {
     "name": "stdout",
     "output_type": "stream",
     "text": [
      "http://api.openweathermap.org/data/2.5/weather?lat=52.3585979&lon=4.862353400000001&appid=ac37f4337bdc07b0642d027ee1313660\n",
      "7.2\n",
      "m/s\n",
      "70\n"
     ]
    }
   ],
   "source": [
    "#see my Jupyter notebook on importing weather data from openweather.org\n",
    "\n",
    "import requests\n",
    "from pprint import pprint\n",
    "\n",
    "##API key and base_url\n",
    "#api.openweathe={lat}&lon={lon}&appid={your api key}rmap.org/data/2.5/weather?lat\n",
    "API_key = \"ac37f4337bdc07b0642d027ee1313660\"\n",
    "\n",
    "# This stores the base url\n",
    "base_url = \"http://api.openweathermap.org/data/2.5/weather?\"\n",
    "\n",
    "###get the coordinates of the first datapoint####\n",
    "\n",
    "lat= lat_str #\"52.1\" #deze variabele moet een string zijn.\n",
    "lon= lon_str #\"4.862\"\n",
    "\n",
    "# This is final url. This is concatenation of base_url, API_key and city_id\n",
    "Final_url = base_url + \"lat=\" + lat +\"&lon=\" + lon  + \"&appid=\" + API_key \n",
    "print(Final_url)\n",
    "# this variable contain the JSON data which the API returns\n",
    "weather_data = requests.get(Final_url).json()\n",
    "\n",
    "# JSON data is difficult to visualize, so you need to pretty print \n",
    "#pprint(weather_data)\n",
    "wind_dir = weather_data['wind']['deg'] \n",
    "wind_speed =weather_data['wind']['speed']\n",
    "print(round(wind_speed,1)), print(\"m/s\")\n",
    "print(round(wind_dir,1))\n",
    "\n",
    "#http://api.openweathermap.org/data/2.5/weather?lat=52&lon=4&appid=ac37f4337bdc07b0642d027ee1313660"
   ]
  },
  {
   "cell_type": "code",
   "execution_count": null,
   "metadata": {},
   "outputs": [],
   "source": []
  },
  {
   "cell_type": "code",
   "execution_count": null,
   "metadata": {},
   "outputs": [],
   "source": []
  },
  {
   "cell_type": "code",
   "execution_count": null,
   "metadata": {},
   "outputs": [],
   "source": []
  }
 ],
 "metadata": {
  "kernelspec": {
   "display_name": "Python 3",
   "language": "python",
   "name": "python3"
  },
  "language_info": {
   "codemirror_mode": {
    "name": "ipython",
    "version": 3
   },
   "file_extension": ".py",
   "mimetype": "text/x-python",
   "name": "python",
   "nbconvert_exporter": "python",
   "pygments_lexer": "ipython3",
   "version": "3.8.5"
  }
 },
 "nbformat": 4,
 "nbformat_minor": 2
}
