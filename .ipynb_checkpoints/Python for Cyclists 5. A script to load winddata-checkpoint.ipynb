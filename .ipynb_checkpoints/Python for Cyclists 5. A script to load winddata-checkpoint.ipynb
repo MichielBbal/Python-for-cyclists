{
 "cells": [
  {
   "cell_type": "markdown",
   "metadata": {},
   "source": [
    "# 5. A script to load winddata "
   ]
  },
  {
   "cell_type": "markdown",
   "metadata": {},
   "source": [
    "## 1. Get the current weather data and wind data\n",
    "\n",
    "Source and more information: https://openweathermap.org/current#geo\n",
    "\n",
    "You will need an API-key for this website."
   ]
  },
  {
   "cell_type": "code",
   "execution_count": 9,
   "metadata": {
    "scrolled": true
   },
   "outputs": [
    {
     "name": "stdout",
     "output_type": "stream",
     "text": [
      "The wind speed is 4.0 m/s\n",
      "The wind direction is 233\n",
      "{'base': 'stations',\n",
      " 'clouds': {'all': 70},\n",
      " 'cod': 200,\n",
      " 'coord': {'lat': 52.1, 'lon': 4.862},\n",
      " 'dt': 1672996968,\n",
      " 'id': 2744248,\n",
      " 'main': {'feels_like': 280.43,\n",
      "          'humidity': 93,\n",
      "          'pressure': 1015,\n",
      "          'temp': 282.57,\n",
      "          'temp_max': 283.77,\n",
      "          'temp_min': 281.49},\n",
      " 'name': 'Woerden',\n",
      " 'sys': {'country': 'NL',\n",
      "         'id': 2004348,\n",
      "         'sunrise': 1672991278,\n",
      "         'sunset': 1673019843,\n",
      "         'type': 2},\n",
      " 'timezone': 3600,\n",
      " 'visibility': 10000,\n",
      " 'weather': [{'description': 'broken clouds',\n",
      "              'icon': '04d',\n",
      "              'id': 803,\n",
      "              'main': 'Clouds'}],\n",
      " 'wind': {'deg': 233, 'gust': 6.71, 'speed': 4.02}}\n"
     ]
    }
   ],
   "source": [
    "#see my Jupyter notebook on importing weather data from openweather.org\n",
    "\n",
    "import requests\n",
    "from pprint import pprint\n",
    "\n",
    "##API key and base_url\n",
    "API_key = \"ac37f4337bdc07b0642d027ee1313660\"\n",
    "base_url = \"http://api.openweathermap.org/data/2.5/weather?\"\n",
    "\n",
    "###get the coordinates of the first datapoint####\n",
    "lat= lat_str =\"52.1\" #must be a string.\n",
    "lon= lon_str =\"4.862\"\n",
    "\n",
    "# This is final url. This is concatenation of base_url, API_key and city_id\n",
    "Final_url = base_url + \"lat=\" + lat +\"&lon=\" + lon  + \"&appid=\" + API_key \n",
    "#print(Final_url)\n",
    "# do the API call\n",
    "weather_data = requests.get(Final_url).json()\n",
    "\n",
    "#print the wind data\n",
    "wind_dir = weather_data['wind']['deg'] \n",
    "wind_speed =weather_data['wind']['speed']\n",
    "print(f'The wind speed is {round(wind_speed,1)} m/s')\n",
    "print(f'The wind direction is {round(wind_dir,1)}')\n",
    "\n",
    "# print the full json message with pprint\n",
    "pprint(weather_data)"
   ]
  },
  {
   "cell_type": "code",
   "execution_count": null,
   "metadata": {},
   "outputs": [],
   "source": []
  },
  {
   "cell_type": "code",
   "execution_count": null,
   "metadata": {},
   "outputs": [],
   "source": []
  },
  {
   "cell_type": "code",
   "execution_count": null,
   "metadata": {},
   "outputs": [],
   "source": []
  }
 ],
 "metadata": {
  "kernelspec": {
   "display_name": "Python 3 (ipykernel)",
   "language": "python",
   "name": "python3"
  },
  "language_info": {
   "codemirror_mode": {
    "name": "ipython",
    "version": 3
   },
   "file_extension": ".py",
   "mimetype": "text/x-python",
   "name": "python",
   "nbconvert_exporter": "python",
   "pygments_lexer": "ipython3",
   "version": "3.9.12"
  }
 },
 "nbformat": 4,
 "nbformat_minor": 2
}
